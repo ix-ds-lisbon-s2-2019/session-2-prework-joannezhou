{
 "cells": [
  {
   "cell_type": "markdown",
   "metadata": {},
   "source": [
    "# Prework Assignment"
   ]
  },
  {
   "cell_type": "markdown",
   "metadata": {},
   "source": [
    "### General Background Questions"
   ]
  },
  {
   "cell_type": "markdown",
   "metadata": {},
   "source": [
    "1. Why is version control important in science?"
   ]
  },
  {
   "cell_type": "code",
   "execution_count": 1,
   "metadata": {},
   "outputs": [],
   "source": [
    "# When new changes are made, researchers usually create a new version in order to keep track of the changes and the author of the changes. It also allows going back to an older version when there’s a problem.\n",
    "# By publishing versioned copies of a research, readers are given more information and can therefore make better decisions. The research project will also become more transparent and credible. \n",
    "# Moreover, in an era with limiting funding and data source, it is important to have more openly accessible and reproducible research data and code, so that other researchers can build upon them and use them to explore more research questions."
   ]
  },
  {
   "cell_type": "markdown",
   "metadata": {},
   "source": [
    "2. What kind of research artifacts can we track with Git?"
   ]
  },
  {
   "cell_type": "code",
   "execution_count": 1,
   "metadata": {},
   "outputs": [],
   "source": [
    "# Firstly, Git can operate on any manuscript or note file, but for binary file type, it does not highlight the changes. It is most useful when working with plain-text files, which include data stored in non-proprietary spreadsheet formats, scripts from programming languages and manuscripts stored in plain text formats. For those files, Git can not only save all versions in the history but also highlight the changes between versions. \n",
    "# Secondly, Git can manage datasets, which include data manually entered via spreadsheets, recorded as part of observational studies, or ones retrieved from sensors. Git also works for statistical code and figures. It’s especially useful for finding errors in a complex code file.\n",
    "# Lastly, when putting all of the above artifacts into a complete manuscript, Git can manage different version, which is helpful for both individual authors and groups of collaborators. It avoids having to save too many files with uninformative names. "
   ]
  },
  {
   "cell_type": "markdown",
   "metadata": {},
   "source": [
    "3. What are the three main things that can go wrong in a data science project?"
   ]
  },
  {
   "cell_type": "code",
   "execution_count": 1,
   "metadata": {},
   "outputs": [],
   "source": [
    "# The first problem that can happen is not having the data you want. It is hard to predict what the data looks like before pitching a project, so the data you need may not be available or accessible. When this problem happens, the only solution is to be flexible and “engineer around the holes in your data”\n",
    "# The second problem is that the model you build from the available data does not work in real life. This is because the data does not contain a signal to what you’re trying to predict. \n",
    "# Lastly, sometimes you’re not solving the right problem, even if the data and model are working. A data science project should be tailored towards what the audience and client ask for. "
   ]
  },
  {
   "cell_type": "markdown",
   "metadata": {},
   "source": [
    "### Python Background Questions"
   ]
  },
  {
   "cell_type": "markdown",
   "metadata": {},
   "source": [
    "These short exercises are a way to familiarize yourself with python. If you find these exercises too difficult, don’t worry! We will review the basics the first day to make sure we are all comfortable coding in Python.\n",
    "\n",
    "Please save your work in this document and `git push` them to the `prework-assignment` repo.\n",
    "\n",
    "----------------------------------------------------------------"
   ]
  },
  {
   "cell_type": "markdown",
   "metadata": {},
   "source": [
    "### Problem 1: Basic Operations"
   ]
  },
  {
   "cell_type": "markdown",
   "metadata": {},
   "source": [
    "You are at Vanessa's Vegan Cafe and you loved it so much you wanna leave a tip. Write a function that takes the amount owed and calculates how much money you pay with an 18% tip. If functions still scare you, just the solution code will do."
   ]
  },
  {
   "cell_type": "code",
   "execution_count": 17,
   "metadata": {},
   "outputs": [],
   "source": [
    "def payment(owed):\n",
    "    return round(1.18*owed,2)"
   ]
  },
  {
   "cell_type": "markdown",
   "metadata": {},
   "source": [
    "----------------------------------------------------------------"
   ]
  },
  {
   "cell_type": "markdown",
   "metadata": {},
   "source": [
    "### Problem 2: Lists"
   ]
  },
  {
   "cell_type": "markdown",
   "metadata": {},
   "source": [
    "I have a fortune cookie that says my lucky numbers are:\n",
    "\n",
    "       [23, 54, 6, 8, 10078, 3]\n",
    "\n",
    "Write a function that returns 3 lists (if functions still scare you, just the solution code will do)\n",
    "   - replace the number 6 with 1\n",
    "   - the above list in decreasing order\n",
    "   - all values greater than 15"
   ]
  },
  {
   "cell_type": "code",
   "execution_count": 18,
   "metadata": {},
   "outputs": [
    {
     "data": {
      "text/plain": [
       "([23, 54, 1, 8, 10078, 3], [10078, 54, 23, 8, 6, 3], [23, 54, 10078])"
      ]
     },
     "execution_count": 18,
     "metadata": {},
     "output_type": "execute_result"
    }
   ],
   "source": [
    "import copy\n",
    "\n",
    "def threelists(numbers):\n",
    "    list1 = copy.copy(numbers)\n",
    "    list2 = copy.copy(numbers)\n",
    "    list3 = []\n",
    "    \n",
    "    list1[2] = 1\n",
    "    \n",
    "    list2.sort(reverse=True)\n",
    "    \n",
    "    for i in range(len(numbers)):\n",
    "        if numbers[i] > 15:\n",
    "            list3.append(numbers[i])\n",
    "    \n",
    "    return list1, list2, list3\n",
    "    \n",
    "\n",
    "threelists([23,54,6,8,10078,3])"
   ]
  },
  {
   "cell_type": "markdown",
   "metadata": {},
   "source": [
    "----------------------------------------------------------------"
   ]
  },
  {
   "cell_type": "markdown",
   "metadata": {},
   "source": [
    "### Problem 3: Basic Operations"
   ]
  },
  {
   "cell_type": "markdown",
   "metadata": {},
   "source": [
    "Let's now take the first step in coding some real data science. Write a statement that loads the `numpy` library into the interpreter and gives it an alias of `np`."
   ]
  },
  {
   "cell_type": "code",
   "execution_count": 23,
   "metadata": {},
   "outputs": [],
   "source": [
    "import numpy as np"
   ]
  },
  {
   "cell_type": "markdown",
   "metadata": {},
   "source": [
    "----------------------------------------------------------------"
   ]
  },
  {
   "cell_type": "markdown",
   "metadata": {},
   "source": [
    "### Problem 4: Numpy"
   ]
  },
  {
   "cell_type": "markdown",
   "metadata": {},
   "source": [
    "Generated a 10x10 `numpy` array with random numbers and slice the array to get the 2nd and 3rd column. Also calculate the average of 6th column using `numpy`."
   ]
  },
  {
   "cell_type": "code",
   "execution_count": 49,
   "metadata": {},
   "outputs": [
    {
     "name": "stdout",
     "output_type": "stream",
     "text": [
      "[[2 7 4 2 4 3 9 4 7 0]\n",
      " [2 7 2 8 6 8 1 7 6 4]\n",
      " [5 0 1 8 7 8 4 1 0 9]\n",
      " [0 0 8 0 4 4 3 5 6 2]\n",
      " [5 1 0 6 5 1 8 6 4 6]\n",
      " [6 3 4 1 1 8 0 8 2 4]\n",
      " [3 4 5 6 8 2 9 9 1 9]\n",
      " [8 9 2 1 8 9 3 8 3 3]\n",
      " [4 0 5 5 9 4 0 3 4 5]\n",
      " [4 1 7 3 7 1 7 4 7 7]] [7 7 0 0 1 3 4 9 0 1] [4 2 1 8 0 4 5 2 5 7] 4.8\n"
     ]
    }
   ],
   "source": [
    "nparray = np.random.randint(10,size=(10,10))\n",
    "\n",
    "secondcolumn = nparray[: ,1]\n",
    "thirdcolumn = nparray[: ,2]\n",
    "sixthcolumn = nparray[: ,5]\n",
    "sixthsum = np.mean(sixthcolumn)\n",
    "\n",
    "\n",
    "print (nparray, secondcolumn, thirdcolumn, sixthsum)"
   ]
  },
  {
   "cell_type": "markdown",
   "metadata": {},
   "source": [
    "----------------------------------------------------------------"
   ]
  },
  {
   "cell_type": "markdown",
   "metadata": {},
   "source": [
    "##### That's it! We look forward to seeing you in class!"
   ]
  }
 ],
 "metadata": {
  "kernelspec": {
   "display_name": "Python 3",
   "language": "python",
   "name": "python3"
  },
  "language_info": {
   "codemirror_mode": {
    "name": "ipython",
    "version": 3
   },
   "file_extension": ".py",
   "mimetype": "text/x-python",
   "name": "python",
   "nbconvert_exporter": "python",
   "pygments_lexer": "ipython3",
   "version": "3.7.3"
  }
 },
 "nbformat": 4,
 "nbformat_minor": 2
}
